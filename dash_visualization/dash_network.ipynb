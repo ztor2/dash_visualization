{
 "cells": [
  {
   "cell_type": "code",
   "execution_count": 1,
   "metadata": {},
   "outputs": [],
   "source": [
    "import numpy as np\n",
    "import pandas as pd\n",
    "import dash\n",
    "import dash_cytoscape as cyto\n",
    "from dash.dependencies import Input, Output\n",
    "import dash_core_components as dcc\n",
    "import dash_html_components as html\n",
    "import plotly.graph_objects as go\n",
    "import networkx as nx\n",
    "import json\n",
    "from jupyter_dash import JupyterDash\n",
    "import csv"
   ]
  },
  {
   "cell_type": "code",
   "execution_count": 2,
   "metadata": {},
   "outputs": [],
   "source": [
    "from sklearn.preprocessing import MinMaxScaler\n",
    "scaler = MinMaxScaler()"
   ]
  },
  {
   "cell_type": "code",
   "execution_count": 4,
   "metadata": {},
   "outputs": [
    {
     "data": {
      "text/html": [
       "<div>\n",
       "<style scoped>\n",
       "    .dataframe tbody tr th:only-of-type {\n",
       "        vertical-align: middle;\n",
       "    }\n",
       "\n",
       "    .dataframe tbody tr th {\n",
       "        vertical-align: top;\n",
       "    }\n",
       "\n",
       "    .dataframe thead th {\n",
       "        text-align: right;\n",
       "    }\n",
       "</style>\n",
       "<table border=\"1\" class=\"dataframe\">\n",
       "  <thead>\n",
       "    <tr style=\"text-align: right;\">\n",
       "      <th></th>\n",
       "      <th>source</th>\n",
       "      <th>target</th>\n",
       "      <th>weight</th>\n",
       "    </tr>\n",
       "  </thead>\n",
       "  <tbody>\n",
       "    <tr>\n",
       "      <th>3688</th>\n",
       "      <td>보습</td>\n",
       "      <td>느낌</td>\n",
       "      <td>0.8423901463254266</td>\n",
       "    </tr>\n",
       "    <tr>\n",
       "      <th>1297</th>\n",
       "      <td>끈적거리</td>\n",
       "      <td>샘플</td>\n",
       "      <td>3.4672439980068233</td>\n",
       "    </tr>\n",
       "    <tr>\n",
       "      <th>2310</th>\n",
       "      <td>레드</td>\n",
       "      <td>제품</td>\n",
       "      <td>0.5758468821314835</td>\n",
       "    </tr>\n",
       "    <tr>\n",
       "      <th>4337</th>\n",
       "      <td>사용하</td>\n",
       "      <td>제품</td>\n",
       "      <td>0.36292488488881175</td>\n",
       "    </tr>\n",
       "    <tr>\n",
       "      <th>281</th>\n",
       "      <td>같이</td>\n",
       "      <td>사서</td>\n",
       "      <td>2.203582838902685</td>\n",
       "    </tr>\n",
       "  </tbody>\n",
       "</table>\n",
       "</div>"
      ],
      "text/plain": [
       "     source target               weight\n",
       "3688     보습     느낌   0.8423901463254266\n",
       "1297   끈적거리     샘플   3.4672439980068233\n",
       "2310     레드     제품   0.5758468821314835\n",
       "4337    사용하     제품  0.36292488488881175\n",
       "281      같이     사서    2.203582838902685"
      ]
     },
     "execution_count": 4,
     "metadata": {},
     "output_type": "execute_result"
    }
   ],
   "source": [
    "with open('product_6015_elist.json', 'r') as f:\n",
    "    data = json.load(f)\n",
    "eglist = pd.DataFrame(data); eglist.sample(5)"
   ]
  },
  {
   "cell_type": "code",
   "execution_count": null,
   "metadata": {},
   "outputs": [],
   "source": [
    "edge_to_sample = 2000"
   ]
  },
  {
   "cell_type": "code",
   "execution_count": null,
   "metadata": {},
   "outputs": [],
   "source": [
    "eglist = eglist.sample(edge_to_sample).reset_index(drop=True); \n",
    "eglist['weight'] = scaler.fit_transform(eglist['weight'].values.reshape(-1, 1))\n",
    "eglist.info()"
   ]
  },
  {
   "cell_type": "code",
   "execution_count": null,
   "metadata": {},
   "outputs": [],
   "source": [
    "eglist.sample(10)"
   ]
  },
  {
   "cell_type": "code",
   "execution_count": 28,
   "metadata": {},
   "outputs": [],
   "source": [
    "nodes_list= pd.DataFrame(pd.concat([eglist['source'], eglist['target']], ignore_index=True), columns=['nodes'])"
   ]
  },
  {
   "cell_type": "code",
   "execution_count": 29,
   "metadata": {},
   "outputs": [
    {
     "name": "stdout",
     "output_type": "stream",
     "text": [
      "nodes num: 194\n"
     ]
    }
   ],
   "source": [
    "print('nodes num: {}'.format(len(np.unique(nodes_list['nodes'].values))))"
   ]
  },
  {
   "cell_type": "code",
   "execution_count": 30,
   "metadata": {},
   "outputs": [],
   "source": [
    "cutoff_div = 1"
   ]
  },
  {
   "cell_type": "code",
   "execution_count": 31,
   "metadata": {},
   "outputs": [],
   "source": [
    "degree_dict= pd.DataFrame(nodes_list['nodes'].value_counts()).to_dict()\n",
    "degree_dict = degree_dict['nodes']\n",
    "degree_dict.update({n: degree_dict[n] for n in degree_dict.keys()})\n",
    "degree_dict.values()\n",
    "degree_dict.update({n: degree_dict[n]/cutoff_div for n in degree_dict.keys()})"
   ]
  },
  {
   "cell_type": "code",
   "execution_count": 32,
   "metadata": {},
   "outputs": [
    {
     "name": "stdout",
     "output_type": "stream",
     "text": [
      "node degree range: 2.0 - 48.0\n"
     ]
    }
   ],
   "source": [
    "print('node degree range: {} - {}'.format( min(degree_dict.values()), max(degree_dict.values())))"
   ]
  },
  {
   "cell_type": "code",
   "execution_count": 33,
   "metadata": {},
   "outputs": [
    {
     "name": "stdout",
     "output_type": "stream",
     "text": [
      "The number of nodes to show in graph: 131\n"
     ]
    }
   ],
   "source": [
    "nodes = set()\n",
    "cy_edges, cy_nodes = [], []\n",
    "edges = eglist.values\n",
    "colors = ['gray', 'skyblue', 'lightgreen', 'orange', 'pink']\n",
    "for edge in edges:\n",
    "    source, target, weights = edge[0], edge[1], edge[2]\n",
    "    color = colors[len(cy_nodes) % 5]\n",
    "    \n",
    "    if (degree_dict[source] > 15) and (degree_dict[target] > 15):\n",
    "\n",
    "        if source not in nodes:  # Add the source node\n",
    "            nodes.add(source)\n",
    "            cy_nodes.append({\"data\": {\"id\": source, \"degree\": degree_dict[source]}, \"classes\": color})\n",
    "\n",
    "        if target not in nodes:  # Add the target node\n",
    "            nodes.add(target)\n",
    "            cy_nodes.append({\"data\": {\"id\": target, \"degree\": degree_dict[target]}, \"classes\": color})\n",
    "    \n",
    "        cy_edges.append({ 'data': {'source': source, 'target': target, 'weights': float(np.round(weights, 2))}, 'classes': color })\n",
    "print('The number of nodes to show in graph: {}'.format(len(nodes)))"
   ]
  },
  {
   "cell_type": "code",
   "execution_count": 34,
   "metadata": {},
   "outputs": [
    {
     "data": {
      "text/plain": [
       "[{'data': {'id': '글로', 'degree': 36.0}, 'classes': 'gray'},\n",
       " {'data': {'id': '진짜', 'degree': 47.0}, 'classes': 'gray'},\n",
       " {'data': {'id': '보이', 'degree': 33.0}, 'classes': 'lightgreen'}]"
      ]
     },
     "execution_count": 34,
     "metadata": {},
     "output_type": "execute_result"
    }
   ],
   "source": [
    "cy_nodes[:3]"
   ]
  },
  {
   "cell_type": "code",
   "execution_count": 35,
   "metadata": {},
   "outputs": [
    {
     "data": {
      "text/plain": [
       "[{'data': {'source': '글로', 'target': '진짜', 'weights': 0.03},\n",
       "  'classes': 'gray'},\n",
       " {'data': {'source': '보이', 'target': '누드', 'weights': 0.09},\n",
       "  'classes': 'lightgreen'},\n",
       " {'data': {'source': '마스크', 'target': '포인트', 'weights': 0.35},\n",
       "  'classes': 'pink'}]"
      ]
     },
     "execution_count": 35,
     "metadata": {},
     "output_type": "execute_result"
    }
   ],
   "source": [
    "cy_edges[:3]"
   ]
  },
  {
   "cell_type": "code",
   "execution_count": null,
   "metadata": {},
   "outputs": [
    {
     "name": "stdout",
     "output_type": "stream",
     "text": [
      "Dash is running on http://127.0.0.1:8050/\n",
      "\n",
      " * Serving Flask app \"__main__\" (lazy loading)\n",
      " * Environment: production\n",
      "\u001b[31m   WARNING: This is a development server. Do not use it in a production deployment.\u001b[0m\n",
      "\u001b[2m   Use a production WSGI server instead.\u001b[0m\n",
      " * Debug mode: on\n"
     ]
    }
   ],
   "source": [
    "app = dash.Dash(__name__)\n",
    "# app = JupyterDash(__name__)\n",
    "\n",
    "default_stylesheet = [\n",
    "    {\n",
    "        \"selector\": 'node',\n",
    "        'style': {\n",
    "            'content': 'data(id)',\n",
    "            'opacity': 0.8,\n",
    "            'text-opacity': 1,\n",
    "            'height': 'data(degree)',\n",
    "            'width': 'data(degree)',\n",
    "#             'height': 10,\n",
    "#             'width': 10,\n",
    "            'font-size': '5px',\n",
    "        }\n",
    "    },\n",
    "    {\n",
    "        \"selector\": 'edge',\n",
    "        'style': {\n",
    "            \"opacity\": 'data(weights)'\n",
    "        }\n",
    "    },\n",
    "    \n",
    "    *[{\n",
    "        \"selector\": '.' + color,\n",
    "        'style': {'line-color': color, 'background-color': color}\n",
    "    } for color in colors]\n",
    "]\n",
    "\n",
    "app.layout = html.Div([\n",
    "    html.H2('글로우픽 리뷰 키워드 네트워크 분석', style={'textAlign': 'center'}),\n",
    "    dcc.Dropdown(\n",
    "        id='dropdown-update-layout',\n",
    "        value='random',\n",
    "        clearable=False,\n",
    "        options=[\n",
    "            {'label': name.capitalize(), 'value': name}\n",
    "            for name in ['random', 'grid', 'circle', 'cose', 'concentric', 'breadthfirst']\n",
    "        ],\n",
    "        style= {'width': '30%'}\n",
    "    ),\n",
    "    html.H3(id='cytoscape-mouseoverEdgeData-output'),\n",
    "    cyto.Cytoscape(\n",
    "        id='cytoscape',\n",
    "        elements= cy_edges + cy_nodes,\n",
    "        stylesheet= default_stylesheet,\n",
    "        layout= {'name': 'concentric'},\n",
    "        style= {'height': '100vh', \n",
    "                'width': '60%'},\n",
    "    ),\n",
    "])\n",
    "\n",
    "@app.callback(Output('cytoscape', 'layout'),\n",
    "              Input('dropdown-update-layout', 'value'))\n",
    "\n",
    "def update_layout(layout):\n",
    "    return {\n",
    "        'name': layout,\n",
    "        'animate': True\n",
    "    }\n",
    "\n",
    "@app.callback(Output('cytoscape-mouseoverEdgeData-output', 'children'),\n",
    "              Input('cytoscape', 'mouseoverEdgeData'))\n",
    "def displayTapEdgeData(data):\n",
    "    if data:\n",
    "        return \"PMI value(normalized): \" + str(data['weights'])\n",
    "\n",
    "app.run_server(debug=True, use_reloader=False)\n",
    "# app.run_server(port=8000, mode='inline')"
   ]
  },
  {
   "cell_type": "markdown",
   "metadata": {},
   "source": [
    "#### convert csv file to json file"
   ]
  },
  {
   "cell_type": "code",
   "execution_count": 19,
   "metadata": {},
   "outputs": [],
   "source": [
    "# def csv_to_json(csvFilePath):\n",
    "#     jsonArray = []\n",
    "      \n",
    "#     #read csv file\n",
    "#     with open(csvFilePath, encoding='utf-8') as csvf: \n",
    "#         #load csv file data using csv library's dictionary reader\n",
    "#         csvReader = csv.DictReader(csvf) \n",
    "\n",
    "#         #convert each csv row into python dict\n",
    "#         for row in csvReader: \n",
    "#             #add this python dict to json array\n",
    "#             jsonArray.append(row)\n",
    "        \n",
    "#     return jsonArray"
   ]
  },
  {
   "cell_type": "code",
   "execution_count": 17,
   "metadata": {},
   "outputs": [],
   "source": [
    "# json_data = csv_to_json('product_6015_elist.csv')"
   ]
  },
  {
   "cell_type": "code",
   "execution_count": 20,
   "metadata": {},
   "outputs": [],
   "source": [
    "# with open('product_6015_elist.json', 'w', encoding='utf-8') as jsonf: \n",
    "#     jsonString = json.dumps(json_data, indent=4)\n",
    "#     jsonf.write(jsonString)"
   ]
  }
 ],
 "metadata": {
  "kernelspec": {
   "display_name": "Python 3",
   "language": "python",
   "name": "python3"
  },
  "language_info": {
   "codemirror_mode": {
    "name": "ipython",
    "version": 3
   },
   "file_extension": ".py",
   "mimetype": "text/x-python",
   "name": "python",
   "nbconvert_exporter": "python",
   "pygments_lexer": "ipython3",
   "version": "3.8.3"
  }
 },
 "nbformat": 4,
 "nbformat_minor": 4
}
